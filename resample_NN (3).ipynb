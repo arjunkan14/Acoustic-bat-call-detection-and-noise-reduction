{
  "nbformat": 4,
  "nbformat_minor": 0,
  "metadata": {
    "colab": {
      "name": "resample-NN.ipynb",
      "provenance": [],
      "collapsed_sections": []
    },
    "kernelspec": {
      "name": "python3",
      "display_name": "Python 3"
    },
    "language_info": {
      "name": "python"
    }
  },
  "cells": [
    {
      "cell_type": "code",
      "metadata": {
        "id": "z588c7qznfs1"
      },
      "source": [
        "from google.colab import drive\n",
        "drive.mount('/content/gdrive')\n",
        "!ls"
      ],
      "execution_count": null,
      "outputs": []
    },
    {
      "cell_type": "code",
      "metadata": {
        "id": "pBUZLKiLo3KO"
      },
      "source": [
        "!pip install pydub\n",
        "!pip install noisereduce\n",
        "!pip install surfboard\n",
        "!pip install librosa\n",
        "!pip install soundfile"
      ],
      "execution_count": null,
      "outputs": []
    },
    {
      "cell_type": "code",
      "metadata": {
        "id": "SxKNZlYxonCJ"
      },
      "source": [
        "import random\n",
        "import sys\n",
        "import glob\n",
        "import time\n",
        "import os\n",
        "import time\n",
        "import pandas as pd\n",
        "import IPython\n",
        "import matplotlib.pyplot as plt\n",
        "from matplotlib.pyplot import specgram\n",
        "import pandas as pd\n",
        "import librosa\n",
        "import librosa.display\n",
        "import seaborn as sns\n",
        "from sklearn.preprocessing import normalize\n",
        "import numpy as np\n",
        "import tensorflow as tf\n",
        "import keras\n",
        "from keras.models import Sequential\n",
        "from keras.layers import Dense, Conv2D, MaxPooling2D, Dropout, Flatten\n",
        "from surfboard.feature_extraction import extract_features\n",
        "from surfboard.sound import Waveform\n",
        "from sklearn.utils import shuffle"
      ],
      "execution_count": 22,
      "outputs": []
    },
    {
      "cell_type": "code",
      "metadata": {
        "id": "UIryiMERoGKL"
      },
      "source": [
        "import pandas as pd\n",
        "reduce_data = pd.read_csv('/content/gdrive/MyDrive/csv-files/combined_csv.csv')\n",
        "noisy_data= pd.read_csv('/content/gdrive/MyDrive/csv-files/combined_csv_noisy.csv')"
      ],
      "execution_count": 175,
      "outputs": []
    },
    {
      "cell_type": "code",
      "metadata": {
        "id": "R0NDC4cWoGaR"
      },
      "source": [
        "reduce_data = reduce_data.iloc[:,13:26]\n",
        "noisy_data = noisy_data.iloc[:,13:26]\n",
        "preprocessed_batsounds = reduce_data.values.tolist()\n",
        "preprocessed_noisesounds = noisy_data.values.tolist()"
      ],
      "execution_count": 176,
      "outputs": []
    },
    {
      "cell_type": "code",
      "metadata": {
        "id": "htifKCjpoGkU"
      },
      "source": [
        "batsounds_normalized =normalize(np.array(preprocessed_batsounds),axis=1)\n",
        "noisesounds_normalized = normalize(np.array(preprocessed_noisesounds),axis=1)\n",
        "df_batsounds = pd.DataFrame(batsounds_normalized)\n",
        "df_batsounds['target']=1\n",
        "df_noisesounds = pd.DataFrame(noisesounds_normalized)\n",
        "df_noisesounds['target'] =0\n",
        "train_data = pd.concat([df_batsounds,df_noisesounds])\n",
        "train_data = shuffle(train_data)"
      ],
      "execution_count": 177,
      "outputs": []
    },
    {
      "cell_type": "code",
      "metadata": {
        "id": "Uk1GwccgoGt7"
      },
      "source": [
        "target_count = train_data.target.value_counts()"
      ],
      "execution_count": 178,
      "outputs": []
    },
    {
      "cell_type": "code",
      "metadata": {
        "id": "fDNFGC28oG2Q"
      },
      "source": [
        "print('Class 0:', target_count[0])\n",
        "print('Class 1:', target_count[1])\n",
        "print('Proportion:', round(target_count[0] / target_count[1], 2), ': 1')\n",
        "\n",
        "target_count.plot(kind='bar', title='Count (target)');"
      ],
      "execution_count": null,
      "outputs": []
    },
    {
      "cell_type": "code",
      "metadata": {
        "id": "GPLSvjVYpdLj"
      },
      "source": [
        "X = train_data.drop(['target'],axis=1).values\n",
        "y = train_data['target'].values"
      ],
      "execution_count": 180,
      "outputs": []
    },
    {
      "cell_type": "code",
      "metadata": {
        "id": "mpAokStyy9T8"
      },
      "source": [
        "count_no_bat_0, count_bat_1 = train_data.target.value_counts()\n",
        "\n",
        "# Divide by class\n",
        "df_no_bat_0 = train_data[train_data['target'] == 0]\n",
        "df_bat_1 = train_data[train_data['target'] == 1]"
      ],
      "execution_count": 181,
      "outputs": []
    },
    {
      "cell_type": "code",
      "metadata": {
        "id": "M7XtLCC-y07E"
      },
      "source": [
        "\n",
        "df_no_bat_0_under = df_no_bat_0.sample(count_bat_1)\n",
        "df_test_under = pd.concat([df_no_bat_0_under, df_bat_1], axis=0)\n",
        "X_ru = df_test_under.drop(['target'],axis=1).values\n",
        "y_ru = df_test_under['target'].values\n",
        "print('Random under-sampling:')\n",
        "print(df_test_under.target.value_counts())\n",
        "\n",
        "df_test_under.target.value_counts().plot(kind='bar', title='Count (target)');"
      ],
      "execution_count": null,
      "outputs": []
    },
    {
      "cell_type": "code",
      "metadata": {
        "id": "x1RNyeWg5mNW"
      },
      "source": [
        "df_bat_1_over = df_bat_1.sample(count_no_bat_0, replace=True)\n",
        "df_test_over = pd.concat([df_no_bat_0, df_bat_1_over], axis=0)\n",
        "X_ro = df_test_over.drop(['target'],axis=1).values\n",
        "y_ro = df_test_over['target'].values\n",
        "print('Random over-sampling:')\n",
        "print(df_test_over.target.value_counts())\n",
        "\n",
        "df_test_over.target.value_counts().plot(kind='bar', title='Count (target)');"
      ],
      "execution_count": null,
      "outputs": []
    },
    {
      "cell_type": "code",
      "metadata": {
        "id": "MSHh9T4JoG-Y"
      },
      "source": [
        "def plot_2d_space(X, y, label='Classes'):   \n",
        "    colors = ['#1F77B4', '#FF7F0E']\n",
        "    markers = ['o', 's']\n",
        "    for l, c, m in zip(np.unique(y), colors, markers):\n",
        "        plt.scatter(\n",
        "            X[y==l, 0],\n",
        "            X[y==l, 1],\n",
        "            c=c, label=l, marker=m\n",
        "        )\n",
        "    plt.title(label)\n",
        "    plt.legend(loc='upper right')\n",
        "    plt.show()"
      ],
      "execution_count": 184,
      "outputs": []
    },
    {
      "cell_type": "code",
      "metadata": {
        "id": "zIVKhOnouKRM"
      },
      "source": [
        "from sklearn.model_selection import train_test_split\n",
        "X_train, X_test, y_train, y_test = train_test_split(X, y, test_size=0.2, random_state=1)"
      ],
      "execution_count": 185,
      "outputs": []
    },
    {
      "cell_type": "code",
      "metadata": {
        "id": "EfjR1UmV_GXr"
      },
      "source": [
        "from imblearn.combine import SMOTETomek\n",
        "\n",
        "smt = SMOTETomek(ratio='auto')\n",
        "X_smt, y_smt = smt.fit_sample(X_train,y_train)\n",
        "\n",
        "plot_2d_space(X_smt, y_smt, 'SMOTE + Tomek links')"
      ],
      "execution_count": null,
      "outputs": []
    },
    {
      "cell_type": "code",
      "metadata": {
        "id": "MNblOTbS6WJD"
      },
      "source": [
        "from imblearn.under_sampling import RandomUnderSampler\n",
        "\n",
        "rus = RandomUnderSampler(return_indices=True)\n",
        "X_rus, y_rus, id_rus = rus.fit_sample(X_train, y_train)\n",
        "\n",
        "print('Removed indexes:', id_rus)\n",
        "\n",
        "plot_2d_space(X_rus, y_rus, 'Random under and over-sampling')\n"
      ],
      "execution_count": null,
      "outputs": []
    },
    {
      "cell_type": "code",
      "metadata": {
        "id": "MMxZD1QxoHL8"
      },
      "source": [
        "LEN_SOUND = len(preprocessed_batsounds[0])\n",
        "NUM_CLASSES = 2 # Bat or no bat\n",
        "\n",
        "model = Sequential()\n",
        "model.add(Dense(128, activation='relu',input_shape=(LEN_SOUND,)))\n",
        "model.add(Dense(32, activation='relu'))\n",
        "model.add(Dense(32, activation='sigmoid'))\n",
        "model.add(Dense(2))\n",
        "model.compile(loss=\"binary_crossentropy\", optimizer='adam', metrics=['accuracy'])\n",
        "model.summary()\n",
        "t0=time.time()\n",
        "history = model.fit(X_smt, y_smt,validation_data=(X_test,y_test), epochs=100,shuffle=True) \n",
        "print(\"training time:\", round(time.time()-t0, 3))\n",
        "t1=time.time()\n",
        "y_pred = np.argmax(model.predict(X_test), axis=1)\n",
        "print(\"predict time:\", round(time.time()-t1, 3))"
      ],
      "execution_count": null,
      "outputs": []
    },
    {
      "cell_type": "code",
      "metadata": {
        "id": "L-IGn5pkdJLG"
      },
      "source": [
        "import matplotlib.pyplot as plt\n",
        "plt.plot(history.history['loss'], label='loss')\n",
        "plt.plot(history.history['val_loss'], label='val_loss')\n",
        "plt.legend()"
      ],
      "execution_count": null,
      "outputs": []
    },
    {
      "cell_type": "code",
      "metadata": {
        "id": "EWoRoHsmdLrC"
      },
      "source": [
        "# Plot accuracy per iteration\n",
        "plt.plot(history.history['accuracy'], label='acc')\n",
        "plt.plot(history.history['val_accuracy'], label='val_acc')\n",
        "plt.legend()"
      ],
      "execution_count": null,
      "outputs": []
    },
    {
      "cell_type": "code",
      "metadata": {
        "id": "aM1tjE5q2sY9"
      },
      "source": [
        "from sklearn.metrics import confusion_matrix\n",
        "from sklearn.metrics import classification_report\n",
        "from matplotlib import pyplot as plt\n",
        "\n",
        "matrix = confusion_matrix(y_true=y_test, y_pred=y_pred, labels=[1,0])\n",
        "print('Confusion matrix : \\n',matrix)\n",
        "\n",
        "tp, fn, fp, tn = confusion_matrix(y_true=y_test, y_pred=y_pred,labels=[1,0]).reshape(-1)\n",
        "print('Outcome values : \\n', tp, fn, fp, tn)\n",
        "\n",
        "# classification report for precision, recall f1-score and accuracy\n",
        "matrix = classification_report(y_test,y_pred,labels=[1,0])\n",
        "print('Classification report : \\n',matrix)"
      ],
      "execution_count": null,
      "outputs": []
    },
    {
      "cell_type": "code",
      "metadata": {
        "id": "GDSSVrJMzy1W"
      },
      "source": [
        "soundarray, sr = librosa.load(\"/content/gdrive/MyDrive/wav/50689630516bcb8d0a00006f.wav\")\n",
        "maxseconds = int(len(soundarray)/sr)\n",
        "count =0\n",
        "for second in range(maxseconds-1):\n",
        "  audiosample = np.array(soundarray[second*sr:(second+1)*sr])\n",
        "  sound = Waveform(signal=audiosample,sample_rate=sr)\n",
        "  feature_temp = extract_features([sound], ['mfcc', 'rms'], ['mean', 'std'])\n",
        "  feature_temp =feature_temp.iloc[:,13:26]\n",
        "  feature_temp = feature_temp.values.tolist()\n",
        "  testinput = normalize(np.array(feature_temp),axis=1)\n",
        "  prediction = model.predict(testinput)\n",
        "\n",
        "  if np.argmax(prediction) ==1:\n",
        "      print(\"Detected a bat at \" + str(second) + \" out of \" + str(maxseconds) + \" seconds\")\n",
        "      print(prediction)\n",
        "      count=count+1\n",
        "print(\"total detected bat seconds:\\t\"+str(count) + \"\\tout of\\t\"+str(maxseconds)+\"\\tseconds\")     "
      ],
      "execution_count": null,
      "outputs": []
    }
  ]
}