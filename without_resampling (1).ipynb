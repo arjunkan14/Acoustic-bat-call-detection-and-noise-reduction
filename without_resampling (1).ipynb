{
  "nbformat": 4,
  "nbformat_minor": 0,
  "metadata": {
    "colab": {
      "name": "without-resampling.ipynb",
      "provenance": [],
      "collapsed_sections": []
    },
    "kernelspec": {
      "name": "python3",
      "display_name": "Python 3"
    },
    "language_info": {
      "name": "python"
    }
  },
  "cells": [
    {
      "cell_type": "code",
      "metadata": {
        "id": "qWOW2a2T6M22"
      },
      "source": [
        "from google.colab import drive\n",
        "drive.mount('/content/gdrive')\n",
        "!ls"
      ],
      "execution_count": null,
      "outputs": []
    },
    {
      "cell_type": "code",
      "metadata": {
        "id": "pid0o8Fj75kh"
      },
      "source": [
        "import random\n",
        "import sys\n",
        "import time\n",
        "import glob\n",
        "import os\n",
        "import time\n",
        "import pandas as pd\n",
        "import IPython\n",
        "import matplotlib.pyplot as plt\n",
        "from matplotlib.pyplot import specgram\n",
        "import pandas as pd\n",
        "import librosa\n",
        "import librosa.display\n",
        "import seaborn as sns\n",
        "from sklearn.preprocessing import normalize\n",
        "import numpy as np\n",
        "import tensorflow as tf\n",
        "import keras\n",
        "from keras.models import Sequential\n",
        "from keras.layers import Dense, Conv2D, MaxPooling2D, Dropout, Flatten\n",
        "from surfboard.feature_extraction import extract_features\n",
        "from surfboard.sound import Waveform\n",
        "from sklearn.utils import shuffle"
      ],
      "execution_count": 148,
      "outputs": []
    },
    {
      "cell_type": "code",
      "metadata": {
        "id": "fFIBGBs_7nTX"
      },
      "source": [
        "import pandas as pd\n",
        "reduce_data = pd.read_csv('/content/gdrive/MyDrive/csv-files/combined_csv.csv')\n",
        "noisy_data= pd.read_csv('/content/gdrive/MyDrive/csv-files/combined_csv_noisy.csv')"
      ],
      "execution_count": 160,
      "outputs": []
    },
    {
      "cell_type": "code",
      "metadata": {
        "id": "HyGqFTRr7yVi"
      },
      "source": [
        "reduce_data = reduce_data.iloc[:,13:26]\n",
        "noisy_data = noisy_data.iloc[:,13:26]\n",
        "preprocessed_batsounds = reduce_data.values.tolist()\n",
        "preprocessed_noisesounds = noisy_data.values.tolist()"
      ],
      "execution_count": 161,
      "outputs": []
    },
    {
      "cell_type": "code",
      "metadata": {
        "id": "VCagZQcOVPbw"
      },
      "source": [
        "\n",
        "\n",
        "batsounds_normalized =normalize(np.array(preprocessed_batsounds),axis=1)\n",
        "noisesounds_normalized = normalize(np.array(preprocessed_noisesounds),axis=1)\n",
        "df_batsounds = pd.DataFrame(batsounds_normalized)\n",
        "df_batsounds['target']=1\n",
        "df_noisesounds = pd.DataFrame(noisesounds_normalized)\n",
        "df_noisesounds['target'] =0\n",
        "train_data = pd.concat([df_batsounds,df_noisesounds])\n",
        "train_data = shuffle(train_data)\n",
        "X = train_data.drop(['target'],axis=1).values\n",
        "y = train_data['target'].values\n",
        "from sklearn.model_selection import train_test_split\n",
        "X_train, X_test, y_train, y_test = train_test_split(X, y, test_size=0.2, random_state=1)"
      ],
      "execution_count": 162,
      "outputs": []
    },
    {
      "cell_type": "code",
      "metadata": {
        "id": "SDYJvI8s8JqK"
      },
      "source": [
        "LEN_SOUND = len(preprocessed_batsounds[0])\n",
        "NUM_CLASSES = 2 # Bat or no bat\n",
        "\n",
        "model = Sequential()\n",
        "model.add(Dense(128, activation='relu',input_shape=(LEN_SOUND,)))\n",
        "model.add(Dense(32, activation='relu'))\n",
        "model.add(Dense(32, activation='sigmoid'))\n",
        "model.add(Dense(2))\n",
        "model.compile(loss=\"binary_crossentropy\", optimizer='adam', metrics=['accuracy'])\n",
        "model.summary()\n",
        "t0=time.time()\n",
        "history = model.fit(X_train, y_train,validation_data=(X_test,y_test), epochs=100,shuffle=True) \n",
        "print(\"training time:\", round(time.time()-t0, 3))\n",
        "t1=time.time()\n",
        "y_pred = np.argmax(model.predict(X_test), axis=1)\n",
        "print(\"predict time:\", round(time.time()-t1, 3))"
      ],
      "execution_count": null,
      "outputs": []
    },
    {
      "cell_type": "code",
      "metadata": {
        "id": "IiBKn1-T8RGs"
      },
      "source": [
        "import matplotlib.pyplot as plt\n",
        "plt.plot(history.history['loss'], label='loss')\n",
        "plt.plot(history.history['val_loss'], label='val_loss')\n",
        "plt.legend()"
      ],
      "execution_count": null,
      "outputs": []
    },
    {
      "cell_type": "code",
      "metadata": {
        "id": "f6uX5bVOXH2A"
      },
      "source": [
        "# Plot accuracy per iteration\n",
        "plt.plot(history.history['accuracy'], label='acc')\n",
        "plt.plot(history.history['val_accuracy'], label='val_acc')\n",
        "plt.legend()"
      ],
      "execution_count": null,
      "outputs": []
    },
    {
      "cell_type": "code",
      "metadata": {
        "id": "-XoRLona8Y2D"
      },
      "source": [
        "from sklearn.metrics import confusion_matrix\n",
        "from sklearn.metrics import classification_report\n",
        "from matplotlib import pyplot as plt\n",
        "\n",
        "matrix = confusion_matrix(y_true=y_test, y_pred=y_pred, labels=[1,0])\n",
        "print('Confusion matrix : \\n',matrix)\n",
        "\n",
        "tp, fn, fp, tn = confusion_matrix(y_true=y_test, y_pred=y_pred,labels=[1,0]).reshape(-1)\n",
        "print('Outcome values : \\n', tp, fn, fp, tn)\n",
        "\n",
        "# classification report for precision, recall f1-score and accuracy\n",
        "matrix = classification_report(y_test,y_pred,labels=[1,0])\n",
        "print('Classification report : \\n',matrix)"
      ],
      "execution_count": null,
      "outputs": []
    },
    {
      "cell_type": "code",
      "metadata": {
        "id": "5jZRNOs881NX"
      },
      "source": [
        "\n",
        "soundarray, sr = librosa.load(\"/content/PinkPanther60.wav\")\n",
        "maxseconds = int(len(soundarray)/sr)\n",
        "count =1\n",
        "for second in range(maxseconds-1):\n",
        "  audiosample = np.array(soundarray[second*sr:(second+1)*sr])\n",
        "  sound = Waveform(signal=audiosample,sample_rate=sr)\n",
        "  feature_temp = extract_features([sound], ['mfcc', 'rms'], ['mean', 'std'])\n",
        "  feature_temp =feature_temp.iloc[:,13:26]\n",
        "  feature_temp = feature_temp.values.tolist()\n",
        "  testdata = normalize(np.array(feature_temp),axis=1)\n",
        "  prediction = model.predict(testdata)\n",
        "\n",
        "  if np.argmax(prediction) ==1:\n",
        "      print(\"Detected a bat at \" + str(second) + \" out of \" + str(maxseconds) + \" seconds\")\n",
        "      print(prediction)\n",
        "      count=count+1\n",
        "print(\"total detected bat seconds:\\t\"+str(count) + \"\\tout of\\t\"+str(maxseconds)+\"\\tseconds\") "
      ],
      "execution_count": null,
      "outputs": []
    }
  ]
}